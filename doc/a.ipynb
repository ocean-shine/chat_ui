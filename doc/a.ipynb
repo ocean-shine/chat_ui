{
 "cells": [
  {
   "cell_type": "markdown",
   "id": "3bc3cfbb",
   "metadata": {},
   "source": [
    "# ChatBox 组件解释\n",
    "\n",
    "这个笔记本解释了用 React 实现的 `ChatBox` 组件。该组件允许用户向聊天机器人发送消息并接收响应。"
   ]
  },
  {
   "cell_type": "markdown",
   "id": "94d485ae",
   "metadata": {},
   "source": [
    "## 导入所需库\n",
    "\n",
    "首先，我们导入必要的库和 CSS 文件。"
   ]
  },
  {
   "cell_type": "code",
   "execution_count": null,
   "id": "2ab5b082",
   "metadata": {},
   "outputs": [],
   "source": [
    "import React, { useState } from 'react';\n",
    "import axios from 'axios';\n",
    "import './ChatBox.css';"
   ]
  },
  {
   "cell_type": "markdown",
   "id": "e35f6653",
   "metadata": {},
   "source": [
    "- `import React, { useState } from 'react';`：从 `react` 库中导入 `React` 和 `useState` 钩子。\n",
    "- `import axios from 'axios';`：导入 `axios` 库，用于发送 HTTP 请求。\n",
    "- `import './ChatBox.css';`：导入 `ChatBox.css` 文件，用于组件的样式。"
   ]
  },
  {
   "cell_type": "markdown",
   "id": "f09c629e",
   "metadata": {},
   "source": [
    "## ChatBox 组件定义\n",
    "\n",
    "`ChatBox` 组件被定义为一个函数组件。"
   ]
  },
  {
   "cell_type": "code",
   "execution_count": null,
   "id": "c3c871c1",
   "metadata": {},
   "outputs": [],
   "source": [
    "const ChatBox = () => {\n",
    "    const [messages, setMessages] = useState([]);\n",
    "    const [input, setInput] = useState('');"
   ]
  },
  {
   "cell_type": "markdown",
   "id": "8b691d57",
   "metadata": {},
   "source": [
    "- `const [messages, setMessages] = useState([]);`：定义 `messages` 状态，用于存储聊天记录，初始值为空数组。\n",
    "- `const [input, setInput] = useState('');`：定义 `input` 状态，用于存储用户输入的消息，初始值为空字符串。"
   ]
  },
  {
   "cell_type": "markdown",
   "id": "965b5788",
   "metadata": {},
   "source": [
    "## 发送消息\n",
    "\n",
    "`sendMessage` 函数负责将用户的消息发送到后端，并使用响应更新状态。"
   ]
  },
  {
   "cell_type": "code",
   "execution_count": null,
   "id": "92ccb2f9",
   "metadata": {},
   "outputs": [],
   "source": [
    "const sendMessage = async () => {\n",
    "    if (input.trim() === '') return; // 防止发送空消息\n",
    "    const response = await axios.post('http://localhost:5000/chat', { message: input });\n",
    "    setMessages([...messages, { user: 'You', text: input }, { user: 'Bot', text: response.data.answer }]);\n",
    "    setInput('');\n",
    "};"
   ]
  },
  {
   "cell_type": "markdown",
   "id": "ffe7edcb",
   "metadata": {},
   "source": [
    "- `const sendMessage = async () => {`：定义 `sendMessage` 异步函数，用于发送消息。\n",
    "- `if (input.trim() === '') return;`：如果输入为空，则不发送消息。\n",
    "- `const response = await axios.post('http://localhost:5000/chat', { message: input });`：使用 `axios` 发送 POST 请求，将用户输入的消息发送到服务器。\n",
    "- `setMessages([...messages, { user: 'You', text: input }, { user: 'Bot', text: response.data.answer }]);`：更新 `messages` 状态，添加用户和机器人的消息。\n",
    "- `setInput('');`：清空输入框。"
   ]
  },
  {
   "cell_type": "markdown",
   "id": "b575def7",
   "metadata": {},
   "source": [
    "## 处理按键事件\n",
    "\n",
    "`handleKeyPress` 函数允许在按下回车键时发送消息。"
   ]
  },
  {
   "cell_type": "code",
   "execution_count": null,
   "id": "e7b61309",
   "metadata": {},
   "outputs": [],
   "source": [
    "const handleKeyPress = (event) => {\n",
    "    if (event.key === 'Enter') {\n",
    "        sendMessage();\n",
    "    }\n",
    "};"
   ]
  },
  {
   "cell_type": "markdown",
   "id": "8deada78",
   "metadata": {},
   "source": [
    "- `const handleKeyPress = (event) => {`：定义 `handleKeyPress` 函数，用于处理键盘按键事件。\n",
    "- `if (event.key === 'Enter') {`：如果按下的是回车键，则调用 `sendMessage` 函数发送消息。"
   ]
  },
  {
   "cell_type": "markdown",
   "id": "7a3247a4",
   "metadata": {},
   "source": [
    "## 渲染组件\n",
    "\n",
    "组件渲染聊天界面。"
   ]
  },
  {
   "cell_type": "code",
   "execution_count": null,
   "id": "8f35f161",
   "metadata": {},
   "outputs": [],
   "source": [
    "return (\n",
    "    <div className=\"chatbox-container\">\n",
    "        <div className=\"messages-container\">\n",
    "            {messages.map((msg, index) => (\n",
    "                <div key={index}><strong>{msg.user}:</strong> {msg.text}</div>\n",
    "            ))}\n",
    "        </div>\n",
    "        <div className=\"input-container\">\n",
    "            <input\n",
    "                value={input}\n",
    "                onChange={(e) => setInput(e.target.value)}\n",
    "                onKeyPress={handleKeyPress}\n",
    "            />\n",
    "            <button onClick={sendMessage}>Send</button>\n",
    "        </div>\n",
    "    </div>\n",
    ");"
   ]
  },
  {
   "cell_type": "markdown",
   "id": "3a2a1bce",
   "metadata": {},
   "source": [
    "- `return (`：返回组件的 JSX 结构。\n",
    "- `<div className=\"chatbox-container\">`：外层容器，包含整个聊天框。\n",
    "- `<div className=\"messages-container\">`：消息容器，显示所有聊天记录。\n",
    "- `{messages.map((msg, index) => (`：遍历 `messages` 数组，渲染每条消息。\n",
    "- `<div key={index}><strong>{msg.user}:</strong> {msg.text}</div>`：显示消息的用户和内容。\n",
    "- `<div className=\"input-container\">`：输入容器，包含输入框和发送按钮。\n",
    "- `<input value={input} onChange={(e) => setInput(e.target.value)} onKeyPress={handleKeyPress} />`：输入框，绑定 `input` 状态，处理输入变化和按键事件。\n",
    "- `<button onClick={sendMessage}>Send</button>`：发送按钮，点击时调用 `sendMessage` 函数。"
   ]
  },
  {
   "cell_type": "markdown",
   "id": "8e5514e3",
   "metadata": {},
   "source": [
    "## 导出组件\n",
    "\n",
    "最后，导出 `ChatBox` 组件，以便在其他文件中使用。"
   ]
  },
  {
   "cell_type": "code",
   "execution_count": null,
   "id": "be51a3d4",
   "metadata": {},
   "outputs": [],
   "source": [
    "export default ChatBox;"
   ]
  },
  {
   "cell_type": "markdown",
   "id": "419e2efd",
   "metadata": {},
   "source": [
    "# App 组件解释\n",
    "\n",
    "这个笔记本解释了用 React 实现的 `App` 组件。该组件将 `ChatBox` 组件嵌入到应用程序中。"
   ]
  },
  {
   "cell_type": "markdown",
   "id": "5f9fef24",
   "metadata": {},
   "source": [
    "## 导入所需库\n",
    "\n",
    "首先，我们导入必要的库和 CSS 文件。"
   ]
  },
  {
   "cell_type": "code",
   "execution_count": null,
   "id": "d90f9855",
   "metadata": {},
   "outputs": [],
   "source": [
    "import React from 'react';\n",
    "import './App.css';\n",
    "import ChatBox from './ChatBox';"
   ]
  },
  {
   "cell_type": "markdown",
   "id": "b486a609",
   "metadata": {},
   "source": [
    "- `import React from 'react';`：从 `react` 库中导入 `React`。\n",
    "- `import './App.css';`：导入 `App.css` 文件，用于应用程序的样式。\n",
    "- `import ChatBox from './ChatBox';`：导入之前定义的 `ChatBox` 组件。"
   ]
  },
  {
   "cell_type": "markdown",
   "id": "00bc73a9",
   "metadata": {},
   "source": [
    "## App 组件定义\n",
    "\n",
    "`App` 组件被定义为一个函数组件。"
   ]
  },
  {
   "cell_type": "code",
   "execution_count": null,
   "id": "a6f06af9",
   "metadata": {},
   "outputs": [],
   "source": [
    "function App() {\n",
    "  return (\n",
    "    <div className=\"App\">\n",
    "      <ChatBox />\n",
    "    </div>\n",
    "  );\n",
    "}"
   ]
  },
  {
   "cell_type": "markdown",
   "id": "0ca3bbac",
   "metadata": {},
   "source": [
    "- `function App() {`：定义一个名为 `App` 的函数组件。\n",
    "- `return (`：返回组件的 JSX 结构。\n",
    "- `<div className=\"App\">`：外层容器，包含整个应用程序。\n",
    "- `<ChatBox />`：嵌入 `ChatBox` 组件，显示聊天框。"
   ]
  },
  {
   "cell_type": "markdown",
   "id": "0862d5dd",
   "metadata": {},
   "source": [
    "## 导出组件\n",
    "\n",
    "最后，导出 `App` 组件，以便在其他文件中使用。"
   ]
  },
  {
   "cell_type": "code",
   "execution_count": null,
   "id": "010b2a98",
   "metadata": {},
   "outputs": [],
   "source": [
    "export default App;"
   ]
  },
  {
   "cell_type": "markdown",
   "id": "f8dd9110",
   "metadata": {},
   "source": [
    "# app.py 模块\n",
    "本笔记本详细解释了一个基于 Flask 的聊天机器人应用程序，该应用程序集成了 SparkApi。"
   ]
  },
  {
   "cell_type": "code",
   "execution_count": null,
   "id": "02b318e2",
   "metadata": {},
   "outputs": [],
   "source": [
    "from flask import Flask, request, jsonify\n",
    "from flask_cors import CORS\n",
    "import SparkApi\n",
    "import os\n",
    "import threading\n",
    "import time\n",
    "import re\n",
    "\n",
    "app = Flask(__name__)\n",
    "CORS(app)\n",
    "\n",
    "# 配置环境变量\n",
    "os.environ[\"IFLYTEK_SPARK_URL\"] = \"wss://xingchen-api.cn-huabei-1.xf-yun.com/v1.1/chat\"\n",
    "os.environ[\"IFLYTEK_SPARK_APP_ID\"] = \"27741adb\"\n",
    "os.environ[\"IFLYTEK_SPARK_API_KEY\"] = \"7bf569c16f9330e40b49fba1ac28383b\"\n",
    "os.environ[\"IFLYTEK_SPARK_API_SECRET\"] = \"ZTNhYzdhNzI4NTExMGI4MTJjZjAyNjlk\"\n",
    "\n",
    "# 用于配置大模型版本，默认“general/generalv2”\n",
    "domain = \"xspark13b6k\"  # v2.0版本\n",
    "appid = os.getenv(\"IFLYTEK_SPARK_APP_ID\")\n",
    "api_secret = os.getenv(\"IFLYTEK_SPARK_API_SECRET\")\n",
    "api_key = os.getenv(\"IFLYTEK_SPARK_API_KEY\")\n",
    "Spark_url = os.getenv(\"IFLYTEK_SPARK_URL\")\n",
    "\n",
    "text = []\n",
    "\n",
    "def getText(role, content):\n",
    "    jsoncon = {\"role\": role, \"content\": content}\n",
    "    text.append(jsoncon)\n",
    "    return text\n",
    "\n",
    "def getlength(text):\n",
    "    length = 0\n",
    "    for content in text:\n",
    "        length += len(content[\"content\"])\n",
    "    return length\n",
    "\n",
    "def checklen(text):\n",
    "    while getlength(text) > 8000:\n",
    "        del text[0]\n",
    "    return text\n",
    "\n",
    "stored_question = \"\"\n",
    "stored_answer = \"\"\n",
    "\n",
    "@app.route('/chat', methods=['POST'])\n",
    "def chat():\n",
    "    global stored_question, stored_answer\n",
    "    data = request.get_json()\n",
    "    stored_question = data.get('message')\n",
    "    \n",
    "    # 等待答案生成\n",
    "    while not stored_answer:\n",
    "        time.sleep(0.1)\n",
    "    \n",
    "    response = stored_answer\n",
    "    stored_answer = \"\"  # 重置答案\n",
    "    return jsonify({'answer': response})\n",
    "\n",
    "    def process_questions(stored_question, stored_answer, loop=True):\n",
    "    # global stored_question, stored_answer\n",
    "    while True:\n",
    "        if stored_question:\n",
    "            prompt = (\"？。 上面输入的问题属于下面ABCDE的哪一类，请输出对应的字母。\\n\"\n",
    "                      \"A: 查询企业信息。例如:查询企业的所属城市、营业期限、成立日期、纳税人识别号、法定代表人人、实缴资本、所属行业、匹配状态、所属城市等等一系列和企业信息有关的问题。\\n\"\n",
    "                      \"B: 招投标中的政策、法律咨询相关问题。包括招标投标的一般规定、招标范围、招标程序、监督处理、领域规范。还有政府采购的一般规定、采购主体、政策功能、采购方式等相关问题。\\n\"\n",
    "                      \"C: 企业舆情问题。\\n\"\n",
    "                      \"D: 查询招标信息。\\n\"\n",
    "                      \"E: 其他 例如:日常生活中常见的问题，通用的问题，不符合招投标领域的。\\n\")\n",
    "            \n",
    "            Input = stored_question + prompt\n",
    "            stored_answer = \"\"\n",
    "            question = checklen(getText(\"user\", Input))\n",
    "            SparkApi.answer = \"\"\n",
    "            print(stored_question)\n",
    "            print(\"星火:\", end=\"\")\n",
    "            SparkApi.main(appid, api_key, api_secret, Spark_url, domain, question)\n",
    "            getText(\"assistant\", SparkApi.answer)\n",
    "            output = text\n",
    "\n",
    "            # 提取 'assistant' 的 content 值，并只保留第一个字符\n",
    "            # assistant_content = next((item['content'] for item in output if item['role'] == 'assistant'), \"\")\n",
    "            # stored_answer = assistant_content[0] if assistant_content else \"\"\n",
    "            match = re.search(r'[ABCDE]', SparkApi.answer)\n",
    "            stored_answer = match.group(0) if match else \"\"\n",
    "            if stored_answer == \"E\":\n",
    "                stored_answer = (\" 你的问题描述不够准确，请记得添加关键词。输入的问题应该属于下面ABCD的一类。\\n\"\n",
    "                      \"A: 查询企业信息。例如:查询企业的所属城市、营业期限、成立日期、纳税人识别号、法定代表人人、实缴资本、所属行业、匹配状态、所属城市等等一系列和企业信息有关的问题。\\n\"\n",
    "                      \"B: 招投标中的政策、法律咨询相关问题。包括招标投标的一般规定、招标范围、招标程序、监督处理、领域规范。还有政府采购的一般规定、采购主体、政策功能、采购方式等相关问题。\\n\"\n",
    "                      \"C: 企业舆情问题。\\n\"\n",
    "                      \"D: 查询招标信息。\\n\")\n",
    "            stored_question = \"\"  # Reset the question after processing\n",
    "        if loop == False:\n",
    "            return stored_answer\n",
    "            break\n",
    "        time.sleep(1)  # Add a small delay to prevent busy-waiting\n",
    "\n",
    "if __name__ == '__main__':\n",
    "    threading.Thread(target=process_questions(stored_question, stored_answer), daemon=True).start()\n",
    "    app.run(debug=True)\n"
   ]
  },
  {
   "cell_type": "markdown",
   "id": "63d0155e",
   "metadata": {},
   "source": [
    "\n",
    "\n",
    "### 导入库\n",
    "```python\n",
    "from flask import Flask, request, jsonify\n",
    "from flask_cors import CORS\n",
    "import SparkApi\n",
    "import os\n",
    "import threading\n",
    "import time\n",
    "import re\n",
    "```\n",
    "这些行导入了应用程序所需的库：\n",
    "- 从 `flask` 包中导入 `Flask`、`request` 和 `jsonify` 以创建 Web 应用程序并处理 HTTP 请求和响应。\n",
    "- 从 `flask_cors` 包中导入 `CORS` 以处理跨域资源共享 (CORS) 问题。\n",
    "- `SparkApi` 用于与 Spark API 交互。\n",
    "- `os` 用于处理环境变量。\n",
    "- `threading`、`time` 和 `re` 分别用于线程、时间管理和正则表达式。"
   ]
  },
  {
   "cell_type": "markdown",
   "id": "1c0ad3e0",
   "metadata": {},
   "source": [
    "### 初始化 Flask 应用程序\n",
    "```python\n",
    "app = Flask(__name__)\n",
    "CORS(app)\n",
    "```\n",
    "这段代码初始化了 Flask 应用程序并为应用程序启用了 CORS。"
   ]
  },
  {
   "cell_type": "markdown",
   "id": "b78d4902",
   "metadata": {},
   "source": [
    "### 配置环境变量\n",
    "```python\n",
    "os.environ[\"IFLYTEK_SPARK_URL\"] = \"wss://xingchen-api.cn-huabei-1.xf-yun.com/v1.1/chat\"\n",
    "os.environ[\"IFLYTEK_SPARK_APP_ID\"] = \"27741adb\"\n",
    "os.environ[\"IFLYTEK_SPARK_API_KEY\"] = \"7bf569c16f9330e40b49fba1ac28383b\"\n",
    "os.environ[\"IFLYTEK_SPARK_API_SECRET\"] = \"ZTNhYzdhNzI4NTExMGI4MTJjZjAyNjlk\"\n",
    "```\n",
    "这些行设置了 Spark API 所需的环境变量，包括 URL、App ID、API Key 和 API Secret。"
   ]
  },
  {
   "cell_type": "markdown",
   "id": "3e2044d4",
   "metadata": {},
   "source": [
    "### 设置模型配置\n",
    "```python\n",
    "domain = \"xspark13b6k\"  # v2.0版本\n",
    "appid = os.getenv(\"IFLYTEK_SPARK_APP_ID\")\n",
    "api_secret = os.getenv(\"IFLYTEK_SPARK_API_SECRET\")\n",
    "api_key = os.getenv(\"IFLYTEK_SPARK_API_KEY\")\n",
    "Spark_url = os.getenv(\"IFLYTEK_SPARK_URL\")\n",
    "```\n",
    "这些行检索环境变量并设置 Spark API 的模型配置。"
   ]
  },
  {
   "cell_type": "markdown",
   "id": "1fb28d64",
   "metadata": {},
   "source": [
    "### 辅助函数\n",
    "```python\n",
    "text = []\n",
    "\n",
    "def getText(role, content):\n",
    "    jsoncon = {\"role\": role, \"content\": content}\n",
    "    text.append(jsoncon)\n",
    "    return text\n",
    "\n",
    "def getlength(text):\n",
    "    length = 0\n",
    "    for content in text:\n",
    "        length += len(content[\"content\"])\n",
    "    return length\n",
    "\n",
    "def checklen(text):\n",
    "    while getlength(text) > 8000:\n",
    "        del text[0]\n",
    "    return text\n",
    "```\n",
    "这些函数帮助管理文本数据：\n",
    "- `getText(role, content)`: 使用指定的角色和内容将新消息添加到文本列表中。\n",
    "- `getlength(text)`: 计算文本列表中所有消息的总长度。\n",
    "- `checklen(text)`: 确保消息的总长度不超过 8000 个字符，通过删除最旧的消息。"
   ]
  },
  {
   "cell_type": "markdown",
   "id": "56794c5a",
   "metadata": {},
   "source": [
    "### 全局变量\n",
    "```python\n",
    "stored_question = \"\"\n",
    "stored_answer = \"\"\n",
    "```\n",
    "这些全局变量存储当前的问题和答案。"
   ]
  },
  {
   "cell_type": "markdown",
   "id": "4158e1c1",
   "metadata": {},
   "source": [
    "### 聊天端点\n",
    "```python\n",
    "@app.route('/chat', methods=['POST'])\n",
    "def chat():\n",
    "    global stored_question, stored_answer\n",
    "    data = request.get_json()\n",
    "    stored_question = data.get('message')\n",
    "    \n",
    "    # 等待答案生成\n",
    "    while not stored_answer:\n",
    "        time.sleep(0.1)\n",
    "    \n",
    "    response = stored_answer\n",
    "    stored_answer = \"\"  # 重置答案\n",
    "    return jsonify({'answer': response})\n"
   ]
  },
  {
   "cell_type": "markdown",
   "id": "201df34d",
   "metadata": {},
   "source": [
    "### 这个端点处理 POST 请求：\n",
    "\n",
    "- 从请求中获取 JSON 数据并提取消息。\n",
    "- 等待答案生成。\n",
    "-  返回生成的答案，并重置存储的答案。\n",
    "\n",
    "#\n",
    "#\n",
    "#\n",
    "\n",
    "\n",
    "\n"
   ]
  },
  {
   "cell_type": "markdown",
   "id": "6eb0e35b",
   "metadata": {},
   "source": [
    "### 这个函数用于处理存储的问题和答案。它接受三个参数：\n",
    "\n",
    "- stored_question: 存储的问题。\n",
    "- stored_answer: 存储的答案。\n",
    "- loop: 一个布尔值，决定是否循环执行。\n",
    "```python\n",
    "def process_questions(stored_question, stored_answer, loop=True):\n",
    "\n"
   ]
  },
  {
   "cell_type": "markdown",
   "id": "db02a7de",
   "metadata": {},
   "source": [
    "### 这个循环不断检查是否有新的问题需要处理。\n",
    "```python\n",
    "while True:\n",
    "    if stored_question:\n"
   ]
  },
  {
   "cell_type": "markdown",
   "id": "995bae9e",
   "metadata": {},
   "source": [
    "### 这段代码生成一个提示，要求用户将输入的问题分类为 A、B、C、D 或 E。\n",
    "```python\n",
    "prompt = (\"？。 上面输入的问题属于下面ABCDE的哪一类，请输出对应的字母。\\n\"\n",
    "          \"A: 查询企业信息。例如:查询企业的所属城市、营业期限、成立日期、纳税人识别号、法定代表人人、实缴资本、所属行业、匹配状态、所属城市等等一系列和企业信息有关的问题。\\n\"\n",
    "          \"B: 招投标中的政策、法律咨询相关问题。包括招标投标的一般规定、招标范围、招标程序、监督处理、领域规范。还有政府采购的一般规定、采购主体、政策功能、采购方式等相关问题。\\n\"\n",
    "          \"C: 企业舆情问题。\\n\"\n",
    "          \"D: 查询招标信息。\\n\"\n",
    "          \"E: 其他 例如:日常生活中常见的问题，通用的问题，不符合招投标领域的。\\n\")\n"
   ]
  },
  {
   "cell_type": "markdown",
   "id": "e204d6c9",
   "metadata": {},
   "source": [
    "### 这段代码将用户的问题和提示组合在一起，调用 SparkApi 处理问题，并将答案存储在 text 列表中。\n",
    "```python\n",
    "Input = stored_question + prompt\n",
    "stored_answer = \"\"\n",
    "question = checklen(getText(\"user\", Input))\n",
    "SparkApi.answer = \"\"\n",
    "print(stored_question)\n",
    "print(\"星火:\", end=\"\")\n",
    "SparkApi.main(appid, api_key, api_secret, Spark_url, domain, question)\n",
    "getText(\"assistant\", SparkApi.answer)\n",
    "output = text\n"
   ]
  },
  {
   "cell_type": "markdown",
   "id": "99a0cc4a",
   "metadata": {},
   "source": [
    "### 这段代码使用正则表达式从 SparkApi 的答案中提取分类字母。如果答案是 “E”，则提示用户问题描述不够准确，并要求重新输入。\n",
    "```python\n",
    "match = re.search(r'[ABCDE]', SparkApi.answer)\n",
    "stored_answer = match.group(0) if match else \"\"\n",
    "if stored_answer == \"E\":\n",
    "    stored_answer = (\" 你的问题描述不够准确，请记得添加关键词。输入的问题应该属于下面ABCD的一类。\\n\"\n",
    "          \"A: 查询企业信息。例如:查询企业的所属城市、营业期限、成立日期、纳税人识别号、法定代表人人、实缴资本、所属行业、匹配状态、所属城市等等一系列和企业信息有关的问题。\\n\"\n",
    "          \"B: 招投标中的政策、法律咨询相关问题。包括招标投标的一般规定、招标范围、招标程序、监督处理、领域规范。还有政府采购的一般规定、采购主体、政策功能、采购方式等相关问题。\\n\"\n",
    "          \"C: 企业舆情问题。\\n\"\n",
    "          \"D: 查询招标信息。\\n\")\n"
   ]
  },
  {
   "cell_type": "markdown",
   "id": "fc454235",
   "metadata": {},
   "source": [
    "### 处理完问题后，重置 stored_question。\n",
    "```python\n",
    "stored_question = \"\"  # Reset the question after processing\n"
   ]
  },
  {
   "cell_type": "markdown",
   "id": "8f9d6937",
   "metadata": {},
   "source": [
    "### 如果 loop 为 False，则返回答案并退出循环。否则，添加一个小延迟以防止忙等待。\n",
    "### 这里是用于测试\n",
    "```python\n",
    "if loop == False:\n",
    "    return stored_answer\n",
    "    break\n",
    "time.sleep(1)  # Add a small delay to prevent busy-waiting\n"
   ]
  },
  {
   "cell_type": "markdown",
   "id": "5bc026bd",
   "metadata": {},
   "source": [
    "### 这段代码启动一个后台线程来处理问题，并运行 Flask 应用程序。\n",
    "```python\n",
    "if __name__ == '__main__':\n",
    "    threading.Thread(target=process_questions(stored_question, stored_answer), daemon=True).start()\n",
    "    app.run(debug=True)\n"
   ]
  },
  {
   "cell_type": "markdown",
   "id": "e4121b85",
   "metadata": {},
   "source": []
  },
  {
   "cell_type": "markdown",
   "id": "ffed103d",
   "metadata": {},
   "source": [
    "# test.py模块"
   ]
  },
  {
   "cell_type": "markdown",
   "id": "b0f1ac16",
   "metadata": {},
   "source": [
    "## 导入模块\n",
    "这段代码导入了所需的模块：\n",
    "\n",
    "- process_questions 和 app 从 app 模块中导入。\n",
    "- os 用于处理文件路径和环境变量。\n",
    "- json 用于处理 JSON 文件。\n",
    "- time 用于时间延迟。\n",
    "```python\n",
    "from app import process_questions\n",
    "import app\n",
    "\n",
    "import os\n",
    "import json\n",
    "import time\n",
    "`"
   ]
  },
  {
   "cell_type": "markdown",
   "id": "798e42cb",
   "metadata": {},
   "source": [
    "## 获取文件路径\n",
    "这段代码获取当前文件的绝对路径和父目录，并构建四个 JSON 文件的路径。\n",
    "```python\n",
    "# 获取当前文件的绝对路径\n",
    "current_file_path = os.path.abspath(__file__)\n",
    "\n",
    "# 获取当前文件的父目录\n",
    "parent_directory = os.path.dirname(os.path.dirname(current_file_path))\n",
    "\n",
    "test_a_path = f\"{parent_directory}/variation/a.json\"\n",
    "test_b_path = f\"{parent_directory}/variation/b.json\"\n",
    "test_c_path = f\"{parent_directory}/variation/c.json\"\n",
    "test_d_path = f\"{parent_directory}/variation/d.json\"\n"
   ]
  },
  {
   "cell_type": "markdown",
   "id": "134783e3",
   "metadata": {},
   "source": [
    "## 读取 JSON 文件\n",
    "这段代码打开并读取四个 JSON 文件，将它们的内容加载到 a_lists、b_lists、c_lists 和 d_lists 变量中。\n",
    "```python \n",
    "with open(test_a_path, 'r') as f:\n",
    "    a_lists = json.load(f)\n",
    "with open(test_b_path, 'r') as f:\n",
    "    b_lists = json.load(f)\n",
    "with open(test_c_path, 'r') as f:\n",
    "    c_lists = json.load(f)\n",
    "with open(test_d_path, 'r') as f:\n",
    "    d_lists = json.load(f)\n"
   ]
  },
  {
   "cell_type": "markdown",
   "id": "e98fc373",
   "metadata": {},
   "source": [
    "## 定义 corrent_func 函数\n",
    "这个函数用于处理问题列表并计算正确答案的数量：\n",
    "\n",
    "- lists: 问题列表。\n",
    "- char: 预期的答案字符（A、B、C 或 D）。\n",
    "\n",
    "函数的主要步骤：\n",
    "\n",
    "- 初始化 sum 和 count 变量。\n",
    "- 遍历问题列表，将每个问题传递给 process_questions 函数。\n",
    "- 如果 stored_answer 与预期的 char 相符，则增加 sum。\n",
    "- 打印当前的正确答案数量和总问题数量。\n",
    "- 返回正确答案的总数。\n",
    "```python\n",
    "def corrent_func(lists, char):\n",
    "    sum = 0\n",
    "    count = 0\n",
    "    stored_question = app.stored_question\n",
    "    stored_answer = app.stored_answer\n",
    "    for list in lists:\n",
    "        stored_question = list[0]\n",
    "        stored_answer = process_questions(stored_question, stored_answer, loop=False)\n",
    "        time.sleep(2)\n",
    "        if stored_answer == char:\n",
    "            sum += 1\n",
    "        count += 1\n",
    "        print(f\"{char}_corrent:\", sum, \"\\n\")\n",
    "        print(f\"{char}_count:\", count, \"\\n\")\n",
    "        \n",
    "    return sum\n"
   ]
  },
  {
   "cell_type": "markdown",
   "id": "6d54ac7e",
   "metadata": {},
   "source": [
    "## 计算正确答案数量\n",
    "这段代码分别计算四类问题（A、B、C、D）的正确答案数量，并打印结果。每次计算后，程序会暂停 30 秒。\n",
    "```python\n",
    "sum_a = corrent_func(a_lists, \"A\")\n",
    "time.sleep(30)\n",
    "sum_b = corrent_func(b_lists, \"B\")\n",
    "time.sleep(30)\n",
    "sum_c = corrent_func(c_lists, \"C\")\n",
    "time.sleep(30)\n",
    "sum_d = corrent_func(d_lists, \"D\")\n",
    "print(\" correct number of class A questions --- %d ---  per 100 \\n \", sum_a)\n",
    "print(\" correct number of class B questions --- %d ---  per 100 \\n \", sum_b)\n",
    "print(\" correct number of class C questions --- %d ---  per 100 \\n \", sum_c)\n",
    "print(\" correct number of class D questions --- %d ---  per 100 \\n \", sum_d)\n"
   ]
  },
  {
   "cell_type": "markdown",
   "id": "735ef0e7",
   "metadata": {},
   "source": []
  }
 ],
 "metadata": {
  "kernelspec": {
   "display_name": "Python 3",
   "language": "python",
   "name": "python3"
  },
  "language_info": {
   "codemirror_mode": {
    "name": "javascript",
    "version": 3
   },
   "file_extension": ".js",
   "mimetype": "application/javascript",
   "name": "javascript",
   "version": "3.9.7"
  }
 },
 "nbformat": 4,
 "nbformat_minor": 5
}
