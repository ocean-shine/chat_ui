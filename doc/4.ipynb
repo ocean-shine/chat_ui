{
 "cells": [
  {
   "cell_type": "markdown",
   "metadata": {},
   "source": [
    "## 导入模块\n",
    "这段代码导入了所需的模块：\n",
    "\n",
    "- process_questions 和 app 从 app 模块中导入。\n",
    "- os 用于处理文件路径和环境变量。\n",
    "- json 用于处理 JSON 文件。\n",
    "- time 用于时间延迟。\n",
    "```python\n",
    "from app import process_questions\n",
    "import app\n",
    "\n",
    "import os\n",
    "import json\n",
    "import time\n",
    "`"
   ]
  },
  {
   "cell_type": "markdown",
   "metadata": {},
   "source": [
    "## 获取文件路径\n",
    "这段代码获取当前文件的绝对路径和父目录，并构建四个 JSON 文件的路径。\n",
    "```python\n",
    "# 获取当前文件的绝对路径\n",
    "current_file_path = os.path.abspath(__file__)\n",
    "\n",
    "# 获取当前文件的父目录\n",
    "parent_directory = os.path.dirname(os.path.dirname(current_file_path))\n",
    "\n",
    "test_a_path = f\"{parent_directory}/variation/a.json\"\n",
    "test_b_path = f\"{parent_directory}/variation/b.json\"\n",
    "test_c_path = f\"{parent_directory}/variation/c.json\"\n",
    "test_d_path = f\"{parent_directory}/variation/d.json\"\n"
   ]
  },
  {
   "cell_type": "markdown",
   "metadata": {},
   "source": [
    "## 读取 JSON 文件\n",
    "这段代码打开并读取四个 JSON 文件，将它们的内容加载到 a_lists、b_lists、c_lists 和 d_lists 变量中。\n",
    "```python \n",
    "with open(test_a_path, 'r') as f:\n",
    "    a_lists = json.load(f)\n",
    "with open(test_b_path, 'r') as f:\n",
    "    b_lists = json.load(f)\n",
    "with open(test_c_path, 'r') as f:\n",
    "    c_lists = json.load(f)\n",
    "with open(test_d_path, 'r') as f:\n",
    "    d_lists = json.load(f)\n"
   ]
  },
  {
   "cell_type": "markdown",
   "metadata": {},
   "source": [
    "## 定义 corrent_func 函数\n",
    "这个函数用于处理问题列表并计算正确答案的数量：\n",
    "\n",
    "- lists: 问题列表。\n",
    "- char: 预期的答案字符（A、B、C 或 D）。\n",
    "\n",
    "函数的主要步骤：\n",
    "\n",
    "- 初始化 sum 和 count 变量。\n",
    "- 遍历问题列表，将每个问题传递给 process_questions 函数。\n",
    "- 如果 stored_answer 与预期的 char 相符，则增加 sum。\n",
    "- 打印当前的正确答案数量和总问题数量。\n",
    "- 返回正确答案的总数。\n",
    "```python\n",
    "def corrent_func(lists, char):\n",
    "    sum = 0\n",
    "    count = 0\n",
    "    stored_question = app.stored_question\n",
    "    stored_answer = app.stored_answer\n",
    "    for list in lists:\n",
    "        stored_question = list[0]\n",
    "        stored_answer = process_questions(stored_question, stored_answer, loop=False)\n",
    "        time.sleep(2)\n",
    "        if stored_answer == char:\n",
    "            sum += 1\n",
    "        count += 1\n",
    "        print(f\"{char}_corrent:\", sum, \"\\n\")\n",
    "        print(f\"{char}_count:\", count, \"\\n\")\n",
    "        \n",
    "    return sum\n"
   ]
  },
  {
   "cell_type": "markdown",
   "metadata": {},
   "source": [
    "## 计算正确答案数量\n",
    "这段代码分别计算四类问题（A、B、C、D）的正确答案数量，并打印结果。每次计算后，程序会暂停 30 秒。\n",
    "```python\n",
    "sum_a = corrent_func(a_lists, \"A\")\n",
    "time.sleep(30)\n",
    "sum_b = corrent_func(b_lists, \"B\")\n",
    "time.sleep(30)\n",
    "sum_c = corrent_func(c_lists, \"C\")\n",
    "time.sleep(30)\n",
    "sum_d = corrent_func(d_lists, \"D\")\n",
    "print(\" correct number of class A questions --- %d ---  per 100 \\n \", sum_a)\n",
    "print(\" correct number of class B questions --- %d ---  per 100 \\n \", sum_b)\n",
    "print(\" correct number of class C questions --- %d ---  per 100 \\n \", sum_c)\n",
    "print(\" correct number of class D questions --- %d ---  per 100 \\n \", sum_d)\n"
   ]
  },
  {
   "cell_type": "markdown",
   "metadata": {},
   "source": []
  }
 ],
 "metadata": {
  "language_info": {
   "name": "python"
  }
 },
 "nbformat": 4,
 "nbformat_minor": 2
}
