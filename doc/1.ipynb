{
 "cells": [
  {
   "cell_type": "markdown",
   "metadata": {},
   "source": [
    "# ChatBox 组件解释\n",
    "\n",
    "这个笔记本解释了用 React 实现的 `ChatBox` 组件。该组件允许用户向聊天机器人发送消息并接收响应。"
   ]
  },
  {
   "cell_type": "markdown",
   "metadata": {},
   "source": [
    "## 导入所需库\n",
    "\n",
    "首先，我们导入必要的库和 CSS 文件。"
   ]
  },
  {
   "cell_type": "code",
   "execution_count": null,
   "metadata": {},
   "outputs": [],
   "source": [
    "import React, { useState } from 'react';\n",
    "import axios from 'axios';\n",
    "import './ChatBox.css';"
   ]
  },
  {
   "cell_type": "markdown",
   "metadata": {},
   "source": [
    "- `import React, { useState } from 'react';`：从 `react` 库中导入 `React` 和 `useState` 钩子。\n",
    "- `import axios from 'axios';`：导入 `axios` 库，用于发送 HTTP 请求。\n",
    "- `import './ChatBox.css';`：导入 `ChatBox.css` 文件，用于组件的样式。"
   ]
  },
  {
   "cell_type": "markdown",
   "metadata": {},
   "source": [
    "## ChatBox 组件定义\n",
    "\n",
    "`ChatBox` 组件被定义为一个函数组件。"
   ]
  },
  {
   "cell_type": "code",
   "execution_count": null,
   "metadata": {},
   "outputs": [],
   "source": [
    "const ChatBox = () => {\n",
    "    const [messages, setMessages] = useState([]);\n",
    "    const [input, setInput] = useState('');"
   ]
  },
  {
   "cell_type": "markdown",
   "metadata": {},
   "source": [
    "- `const [messages, setMessages] = useState([]);`：定义 `messages` 状态，用于存储聊天记录，初始值为空数组。\n",
    "- `const [input, setInput] = useState('');`：定义 `input` 状态，用于存储用户输入的消息，初始值为空字符串。"
   ]
  },
  {
   "cell_type": "markdown",
   "metadata": {},
   "source": [
    "## 发送消息\n",
    "\n",
    "`sendMessage` 函数负责将用户的消息发送到后端，并使用响应更新状态。"
   ]
  },
  {
   "cell_type": "code",
   "execution_count": null,
   "metadata": {},
   "outputs": [],
   "source": [
    "const sendMessage = async () => {\n",
    "    if (input.trim() === '') return; // 防止发送空消息\n",
    "    const response = await axios.post('http://localhost:5000/chat', { message: input });\n",
    "    setMessages([...messages, { user: 'You', text: input }, { user: 'Bot', text: response.data.answer }]);\n",
    "    setInput('');\n",
    "};"
   ]
  },
  {
   "cell_type": "markdown",
   "metadata": {},
   "source": [
    "- `const sendMessage = async () => {`：定义 `sendMessage` 异步函数，用于发送消息。\n",
    "- `if (input.trim() === '') return;`：如果输入为空，则不发送消息。\n",
    "- `const response = await axios.post('http://localhost:5000/chat', { message: input });`：使用 `axios` 发送 POST 请求，将用户输入的消息发送到服务器。\n",
    "- `setMessages([...messages, { user: 'You', text: input }, { user: 'Bot', text: response.data.answer }]);`：更新 `messages` 状态，添加用户和机器人的消息。\n",
    "- `setInput('');`：清空输入框。"
   ]
  },
  {
   "cell_type": "markdown",
   "metadata": {},
   "source": [
    "## 处理按键事件\n",
    "\n",
    "`handleKeyPress` 函数允许在按下回车键时发送消息。"
   ]
  },
  {
   "cell_type": "code",
   "execution_count": null,
   "metadata": {},
   "outputs": [],
   "source": [
    "const handleKeyPress = (event) => {\n",
    "    if (event.key === 'Enter') {\n",
    "        sendMessage();\n",
    "    }\n",
    "};"
   ]
  },
  {
   "cell_type": "markdown",
   "metadata": {},
   "source": [
    "- `const handleKeyPress = (event) => {`：定义 `handleKeyPress` 函数，用于处理键盘按键事件。\n",
    "- `if (event.key === 'Enter') {`：如果按下的是回车键，则调用 `sendMessage` 函数发送消息。"
   ]
  },
  {
   "cell_type": "markdown",
   "metadata": {},
   "source": [
    "## 渲染组件\n",
    "\n",
    "组件渲染聊天界面。"
   ]
  },
  {
   "cell_type": "code",
   "execution_count": null,
   "metadata": {},
   "outputs": [],
   "source": [
    "return (\n",
    "    <div className=\"chatbox-container\">\n",
    "        <div className=\"messages-container\">\n",
    "            {messages.map((msg, index) => (\n",
    "                <div key={index}><strong>{msg.user}:</strong> {msg.text}</div>\n",
    "            ))}\n",
    "        </div>\n",
    "        <div className=\"input-container\">\n",
    "            <input\n",
    "                value={input}\n",
    "                onChange={(e) => setInput(e.target.value)}\n",
    "                onKeyPress={handleKeyPress}\n",
    "            />\n",
    "            <button onClick={sendMessage}>Send</button>\n",
    "        </div>\n",
    "    </div>\n",
    ");"
   ]
  },
  {
   "cell_type": "markdown",
   "metadata": {},
   "source": [
    "- `return (`：返回组件的 JSX 结构。\n",
    "- `<div className=\"chatbox-container\">`：外层容器，包含整个聊天框。\n",
    "- `<div className=\"messages-container\">`：消息容器，显示所有聊天记录。\n",
    "- `{messages.map((msg, index) => (`：遍历 `messages` 数组，渲染每条消息。\n",
    "- `<div key={index}><strong>{msg.user}:</strong> {msg.text}</div>`：显示消息的用户和内容。\n",
    "- `<div className=\"input-container\">`：输入容器，包含输入框和发送按钮。\n",
    "- `<input value={input} onChange={(e) => setInput(e.target.value)} onKeyPress={handleKeyPress} />`：输入框，绑定 `input` 状态，处理输入变化和按键事件。\n",
    "- `<button onClick={sendMessage}>Send</button>`：发送按钮，点击时调用 `sendMessage` 函数。"
   ]
  },
  {
   "cell_type": "markdown",
   "metadata": {},
   "source": [
    "## 导出组件\n",
    "\n",
    "最后，导出 `ChatBox` 组件，以便在其他文件中使用。"
   ]
  },
  {
   "cell_type": "code",
   "execution_count": null,
   "metadata": {},
   "outputs": [],
   "source": [
    "export default ChatBox;"
   ]
  }
 ],
 "metadata": {
  "kernelspec": {
   "display_name": "Python 3",
   "language": "python",
   "name": "python3"
  },
  "language_info": {
   "codemirror_mode": {
    "name": "javascript",
    "version": 3
   },
   "file_extension": ".js",
   "mimetype": "application/javascript",
   "name": "javascript",
   "version": "3.9.7"
  }
 },
 "nbformat": 4,
 "nbformat_minor": 5
}

