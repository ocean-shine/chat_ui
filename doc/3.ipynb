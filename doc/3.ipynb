{
 "cells": [
  {
   "cell_type": "markdown",
   "metadata": {},
   "source": [
    "# Flask 聊天机器人应用程序解释\n",
    "本笔记本详细解释了一个基于 Flask 的聊天机器人应用程序，该应用程序集成了 SparkApi。"
   ]
  },
  {
   "cell_type": "code",
   "execution_count": null,
   "metadata": {
    "vscode": {
     "languageId": "javascript"
    }
   },
   "outputs": [],
   "source": [
    "from flask import Flask, request, jsonify\n",
    "from flask_cors import CORS\n",
    "import SparkApi\n",
    "import os\n",
    "import threading\n",
    "import time\n",
    "import re\n",
    "\n",
    "app = Flask(__name__)\n",
    "CORS(app)\n",
    "\n",
    "# 配置环境变量\n",
    "os.environ[\"IFLYTEK_SPARK_URL\"] = \"wss://xingchen-api.cn-huabei-1.xf-yun.com/v1.1/chat\"\n",
    "os.environ[\"IFLYTEK_SPARK_APP_ID\"] = \"27741adb\"\n",
    "os.environ[\"IFLYTEK_SPARK_API_KEY\"] = \"7bf569c16f9330e40b49fba1ac28383b\"\n",
    "os.environ[\"IFLYTEK_SPARK_API_SECRET\"] = \"ZTNhYzdhNzI4NTExMGI4MTJjZjAyNjlk\"\n",
    "\n",
    "# 用于配置大模型版本，默认“general/generalv2”\n",
    "domain = \"xspark13b6k\"  # v2.0版本\n",
    "appid = os.getenv(\"IFLYTEK_SPARK_APP_ID\")\n",
    "api_secret = os.getenv(\"IFLYTEK_SPARK_API_SECRET\")\n",
    "api_key = os.getenv(\"IFLYTEK_SPARK_API_KEY\")\n",
    "Spark_url = os.getenv(\"IFLYTEK_SPARK_URL\")\n",
    "\n",
    "text = []\n",
    "\n",
    "def getText(role, content):\n",
    "    jsoncon = {\"role\": role, \"content\": content}\n",
    "    text.append(jsoncon)\n",
    "    return text\n",
    "\n",
    "def getlength(text):\n",
    "    length = 0\n",
    "    for content in text:\n",
    "        length += len(content[\"content\"])\n",
    "    return length\n",
    "\n",
    "def checklen(text):\n",
    "    while getlength(text) > 8000:\n",
    "        del text[0]\n",
    "    return text\n",
    "\n",
    "stored_question = \"\"\n",
    "stored_answer = \"\"\n",
    "\n",
    "@app.route('/chat', methods=['POST'])\n",
    "def chat():\n",
    "    global stored_question, stored_answer\n",
    "    data = request.get_json()\n",
    "    stored_question = data.get('message')\n",
    "    \n",
    "    # 等待答案生成\n",
    "    while not stored_answer:\n",
    "        time.sleep(0.1)\n",
    "    \n",
    "    response = stored_answer\n",
    "    stored_answer = \"\"  # 重置答案\n",
    "    return jsonify({'answer': response})\n",
    "\n",
    "    def process_questions(stored_question, stored_answer, loop=True):\n",
    "    # global stored_question, stored_answer\n",
    "    while True:\n",
    "        if stored_question:\n",
    "            prompt = (\"？。 上面输入的问题属于下面ABCDE的哪一类，请输出对应的字母。\\n\"\n",
    "                      \"A: 查询企业信息。例如:查询企业的所属城市、营业期限、成立日期、纳税人识别号、法定代表人人、实缴资本、所属行业、匹配状态、所属城市等等一系列和企业信息有关的问题。\\n\"\n",
    "                      \"B: 招投标中的政策、法律咨询相关问题。包括招标投标的一般规定、招标范围、招标程序、监督处理、领域规范。还有政府采购的一般规定、采购主体、政策功能、采购方式等相关问题。\\n\"\n",
    "                      \"C: 企业舆情问题。\\n\"\n",
    "                      \"D: 查询招标信息。\\n\"\n",
    "                      \"E: 其他 例如:日常生活中常见的问题，通用的问题，不符合招投标领域的。\\n\")\n",
    "            \n",
    "            Input = stored_question + prompt\n",
    "            stored_answer = \"\"\n",
    "            question = checklen(getText(\"user\", Input))\n",
    "            SparkApi.answer = \"\"\n",
    "            print(stored_question)\n",
    "            print(\"星火:\", end=\"\")\n",
    "            SparkApi.main(appid, api_key, api_secret, Spark_url, domain, question)\n",
    "            getText(\"assistant\", SparkApi.answer)\n",
    "            output = text\n",
    "\n",
    "            # 提取 'assistant' 的 content 值，并只保留第一个字符\n",
    "            # assistant_content = next((item['content'] for item in output if item['role'] == 'assistant'), \"\")\n",
    "            # stored_answer = assistant_content[0] if assistant_content else \"\"\n",
    "            match = re.search(r'[ABCDE]', SparkApi.answer)\n",
    "            stored_answer = match.group(0) if match else \"\"\n",
    "            if stored_answer == \"E\":\n",
    "                stored_answer = (\" 你的问题描述不够准确，请记得添加关键词。输入的问题应该属于下面ABCD的一类。\\n\"\n",
    "                      \"A: 查询企业信息。例如:查询企业的所属城市、营业期限、成立日期、纳税人识别号、法定代表人人、实缴资本、所属行业、匹配状态、所属城市等等一系列和企业信息有关的问题。\\n\"\n",
    "                      \"B: 招投标中的政策、法律咨询相关问题。包括招标投标的一般规定、招标范围、招标程序、监督处理、领域规范。还有政府采购的一般规定、采购主体、政策功能、采购方式等相关问题。\\n\"\n",
    "                      \"C: 企业舆情问题。\\n\"\n",
    "                      \"D: 查询招标信息。\\n\")\n",
    "            stored_question = \"\"  # Reset the question after processing\n",
    "        if loop == False:\n",
    "            return stored_answer\n",
    "            break\n",
    "        time.sleep(1)  # Add a small delay to prevent busy-waiting\n",
    "\n",
    "if __name__ == '__main__':\n",
    "    threading.Thread(target=process_questions(stored_question, stored_answer), daemon=True).start()\n",
    "    app.run(debug=True)\n"
   ]
  },
  {
   "cell_type": "markdown",
   "metadata": {},
   "source": [
    "## 解释\n",
    "\n",
    "### 导入库\n",
    "```python\n",
    "from flask import Flask, request, jsonify\n",
    "from flask_cors import CORS\n",
    "import SparkApi\n",
    "import os\n",
    "import threading\n",
    "import time\n",
    "import re\n",
    "```\n",
    "这些行导入了应用程序所需的库：\n",
    "- 从 `flask` 包中导入 `Flask`、`request` 和 `jsonify` 以创建 Web 应用程序并处理 HTTP 请求和响应。\n",
    "- 从 `flask_cors` 包中导入 `CORS` 以处理跨域资源共享 (CORS) 问题。\n",
    "- `SparkApi` 用于与 Spark API 交互。\n",
    "- `os` 用于处理环境变量。\n",
    "- `threading`、`time` 和 `re` 分别用于线程、时间管理和正则表达式。"
   ]
  },
  {
   "cell_type": "markdown",
   "metadata": {},
   "source": [
    "### 初始化 Flask 应用程序\n",
    "```python\n",
    "app = Flask(__name__)\n",
    "CORS(app)\n",
    "```\n",
    "这段代码初始化了 Flask 应用程序并为应用程序启用了 CORS。"
   ]
  },
  {
   "cell_type": "markdown",
   "metadata": {},
   "source": [
    "### 配置环境变量\n",
    "```python\n",
    "os.environ[\"IFLYTEK_SPARK_URL\"] = \"wss://xingchen-api.cn-huabei-1.xf-yun.com/v1.1/chat\"\n",
    "os.environ[\"IFLYTEK_SPARK_APP_ID\"] = \"27741adb\"\n",
    "os.environ[\"IFLYTEK_SPARK_API_KEY\"] = \"7bf569c16f9330e40b49fba1ac28383b\"\n",
    "os.environ[\"IFLYTEK_SPARK_API_SECRET\"] = \"ZTNhYzdhNzI4NTExMGI4MTJjZjAyNjlk\"\n",
    "```\n",
    "这些行设置了 Spark API 所需的环境变量，包括 URL、App ID、API Key 和 API Secret。"
   ]
  },
  {
   "cell_type": "markdown",
   "metadata": {},
   "source": [
    "### 设置模型配置\n",
    "```python\n",
    "domain = \"xspark13b6k\"  # v2.0版本\n",
    "appid = os.getenv(\"IFLYTEK_SPARK_APP_ID\")\n",
    "api_secret = os.getenv(\"IFLYTEK_SPARK_API_SECRET\")\n",
    "api_key = os.getenv(\"IFLYTEK_SPARK_API_KEY\")\n",
    "Spark_url = os.getenv(\"IFLYTEK_SPARK_URL\")\n",
    "```\n",
    "这些行检索环境变量并设置 Spark API 的模型配置。"
   ]
  },
  {
   "cell_type": "markdown",
   "metadata": {},
   "source": [
    "### 辅助函数\n",
    "```python\n",
    "text = []\n",
    "\n",
    "def getText(role, content):\n",
    "    jsoncon = {\"role\": role, \"content\": content}\n",
    "    text.append(jsoncon)\n",
    "    return text\n",
    "\n",
    "def getlength(text):\n",
    "    length = 0\n",
    "    for content in text:\n",
    "        length += len(content[\"content\"])\n",
    "    return length\n",
    "\n",
    "def checklen(text):\n",
    "    while getlength(text) > 8000:\n",
    "        del text[0]\n",
    "    return text\n",
    "```\n",
    "这些函数帮助管理文本数据：\n",
    "- `getText(role, content)`: 使用指定的角色和内容将新消息添加到文本列表中。\n",
    "- `getlength(text)`: 计算文本列表中所有消息的总长度。\n",
    "- `checklen(text)`: 确保消息的总长度不超过 8000 个字符，通过删除最旧的消息。"
   ]
  },
  {
   "cell_type": "markdown",
   "metadata": {},
   "source": [
    "### 全局变量\n",
    "```python\n",
    "stored_question = \"\"\n",
    "stored_answer = \"\"\n",
    "```\n",
    "这些全局变量存储当前的问题和答案。"
   ]
  },
  {
   "cell_type": "markdown",
   "metadata": {},
   "source": [
    "### 聊天端点\n",
    "```python\n",
    "@app.route('/chat', methods=['POST'])\n",
    "def chat():\n",
    "    global stored_question, stored_answer\n",
    "    data = request.get_json()\n",
    "    stored_question = data.get('message')\n",
    "    \n",
    "    # 等待答案生成\n",
    "    while not stored_answer:\n",
    "        time.sleep(0.1)\n",
    "    \n",
    "    response = stored_answer\n",
    "    stored_answer = \"\"  # 重置答案\n",
    "    return jsonify({'answer': response})\n"
   ]
  },
  {
   "cell_type": "markdown",
   "id": "201df34d",
   "metadata": {},
   "source": [
    "### 这个端点处理 POST 请求：\n",
    "\n",
    "- 从请求中获取 JSON 数据并提取消息。\n",
    "- 等待答案生成。\n",
    "-  返回生成的答案，并重置存储的答案。\n",
    "\n",
    "#\n",
    "#\n",
    "#\n",
    "\n",
    "\n",
    "\n"
   ]
  },
  {
   "cell_type": "markdown",
   "id": "6eb0e35b",
   "metadata": {},
   "source": [
    "### 这个函数用于处理存储的问题和答案。它接受三个参数：\n",
    "\n",
    "- stored_question: 存储的问题。\n",
    "- stored_answer: 存储的答案。\n",
    "- loop: 一个布尔值，决定是否循环执行。\n",
    "```python\n",
    "def process_questions(stored_question, stored_answer, loop=True):\n",
    "\n"
   ]
  },
  {
   "cell_type": "markdown",
   "id": "db02a7de",
   "metadata": {},
   "source": [
    "### 这个循环不断检查是否有新的问题需要处理。\n",
    "```python\n",
    "while True:\n",
    "    if stored_question:\n"
   ]
  },
  {
   "cell_type": "markdown",
   "id": "995bae9e",
   "metadata": {},
   "source": [
    "### 这段代码生成一个提示，要求用户将输入的问题分类为 A、B、C、D 或 E。\n",
    "```python\n",
    "prompt = (\"？。 上面输入的问题属于下面ABCDE的哪一类，请输出对应的字母。\\n\"\n",
    "          \"A: 查询企业信息。例如:查询企业的所属城市、营业期限、成立日期、纳税人识别号、法定代表人人、实缴资本、所属行业、匹配状态、所属城市等等一系列和企业信息有关的问题。\\n\"\n",
    "          \"B: 招投标中的政策、法律咨询相关问题。包括招标投标的一般规定、招标范围、招标程序、监督处理、领域规范。还有政府采购的一般规定、采购主体、政策功能、采购方式等相关问题。\\n\"\n",
    "          \"C: 企业舆情问题。\\n\"\n",
    "          \"D: 查询招标信息。\\n\"\n",
    "          \"E: 其他 例如:日常生活中常见的问题，通用的问题，不符合招投标领域的。\\n\")\n"
   ]
  },
  {
   "cell_type": "markdown",
   "id": "e204d6c9",
   "metadata": {},
   "source": [
    "### 这段代码将用户的问题和提示组合在一起，调用 SparkApi 处理问题，并将答案存储在 text 列表中。\n",
    "```python\n",
    "Input = stored_question + prompt\n",
    "stored_answer = \"\"\n",
    "question = checklen(getText(\"user\", Input))\n",
    "SparkApi.answer = \"\"\n",
    "print(stored_question)\n",
    "print(\"星火:\", end=\"\")\n",
    "SparkApi.main(appid, api_key, api_secret, Spark_url, domain, question)\n",
    "getText(\"assistant\", SparkApi.answer)\n",
    "output = text\n"
   ]
  },
  {
   "cell_type": "markdown",
   "id": "99a0cc4a",
   "metadata": {},
   "source": [
    "### 这段代码使用正则表达式从 SparkApi 的答案中提取分类字母。如果答案是 “E”，则提示用户问题描述不够准确，并要求重新输入。\n",
    "```python\n",
    "match = re.search(r'[ABCDE]', SparkApi.answer)\n",
    "stored_answer = match.group(0) if match else \"\"\n",
    "if stored_answer == \"E\":\n",
    "    stored_answer = (\" 你的问题描述不够准确，请记得添加关键词。输入的问题应该属于下面ABCD的一类。\\n\"\n",
    "          \"A: 查询企业信息。例如:查询企业的所属城市、营业期限、成立日期、纳税人识别号、法定代表人人、实缴资本、所属行业、匹配状态、所属城市等等一系列和企业信息有关的问题。\\n\"\n",
    "          \"B: 招投标中的政策、法律咨询相关问题。包括招标投标的一般规定、招标范围、招标程序、监督处理、领域规范。还有政府采购的一般规定、采购主体、政策功能、采购方式等相关问题。\\n\"\n",
    "          \"C: 企业舆情问题。\\n\"\n",
    "          \"D: 查询招标信息。\\n\")\n"
   ]
  },
  {
   "cell_type": "markdown",
   "id": "fc454235",
   "metadata": {},
   "source": [
    "### 处理完问题后，重置 stored_question。\n",
    "```python\n",
    "stored_question = \"\"  # Reset the question after processing\n"
   ]
  },
  {
   "cell_type": "markdown",
   "id": "8f9d6937",
   "metadata": {},
   "source": [
    "### 如果 loop 为 False，则返回答案并退出循环。否则，添加一个小延迟以防止忙等待。\n",
    "### 这里是用于测试\n",
    "```python\n",
    "if loop == False:\n",
    "    return stored_answer\n",
    "    break\n",
    "time.sleep(1)  # Add a small delay to prevent busy-waiting\n"
   ]
  },
  {
   "cell_type": "markdown",
   "id": "5bc026bd",
   "metadata": {},
   "source": [
    "### 这段代码启动一个后台线程来处理问题，并运行 Flask 应用程序。\n",
    "```python\n",
    "if __name__ == '__main__':\n",
    "    threading.Thread(target=process_questions(stored_question, stored_answer), daemon=True).start()\n",
    "    app.run(debug=True)\n"
   ]
  },
  {
   "cell_type": "markdown",
   "id": "e4121b85",
   "metadata": {},
   "source": []
  }
 ],
 "metadata": {
  "kernelspec": {
   "display_name": "Python 3",
   "language": "python",
   "name": "python3"
  },
  "language_info": {
   "codemirror_mode": {
    "name": "ipython",
    "version": 3
   },
   "file_extension": ".py",
   "mimetype": "text/x-python",
   "name": "python",
   "nbconvert_exporter": "python",
   "pygments_lexer": "ipython3",
   "version": "3.10.14"
  }
 },
 "nbformat": 4,
 "nbformat_minor": 5
}
